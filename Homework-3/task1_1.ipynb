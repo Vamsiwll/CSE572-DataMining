{
 "cells": [
  {
   "cell_type": "code",
   "execution_count": 11,
   "id": "325fb51c",
   "metadata": {},
   "outputs": [],
   "source": [
    "import pandas as pd\n",
    "import numpy as np\n",
    "from sklearn.preprocessing import StandardScaler\n",
    "from sklearn.metrics import pairwise_distances\n",
    "from sklearn.metrics.pairwise import cosine_similarity as cos_sim\n",
    "from sklearn.metrics import jaccard_score\n",
    "import matplotlib.pyplot as plt\n",
    "from sklearn.metrics import accuracy_score\n",
    "from scipy.stats import mode"
   ]
  },
  {
   "cell_type": "code",
   "execution_count": null,
   "id": "7358fde9",
   "metadata": {},
   "outputs": [],
   "source": [
    "# Reading data from CSV file\n",
    "file_path = 'C:/Education/ASU/Semester_2/DM/My_HW/kmeans_data/data.csv'\n",
    "data = pd.read_csv(file_path)\n",
    "data\n",
    "file_path2 = 'C:/Education/ASU/Semester_2/DM/My_HW/kmeans_data/label.csv'\n",
    "labelData = pd.read_csv(file_path2)\n",
    "true_labels = labelData.values\n",
    "\n",
    "features = data.values\n",
    "\n",
    "scaler = StandardScaler()\n",
    "features_standardized = scaler.fit_transform(features)"
   ]
  },
  {
   "cell_type": "code",
   "execution_count": 13,
   "id": "356a49ab",
   "metadata": {},
   "outputs": [],
   "source": [
    "# Defining Jaccard Similarity\n",
    "def jaccard_sim(a, b):\n",
    "    intersection = np.sum(np.minimum(a, b))\n",
    "    union = np.sum(np.maximum(a, b))\n",
    "    return intersection / union if union != 0 else 0"
   ]
  },
  {
   "cell_type": "code",
   "execution_count": null,
   "id": "a108ec61",
   "metadata": {},
   "outputs": [],
   "source": [
    "# The K-means function\n",
    "def kmeans(X, k, sim='euclidean', max_iters=100):\n",
    "    centroids = X[np.random.choice(len(X), k, replace=False)]\n",
    "    \n",
    "    for _ in range(max_iters):\n",
    "        if sim == 'euclidean':\n",
    "            dist = pairwise_distances(X, centroids, metric='euclidean')\n",
    "        elif sim == 'cosine':\n",
    "            dist = 1 - cos_sim(X, centroids)\n",
    "        elif sim == 'jaccard':\n",
    "            dist = np.array([1 - jaccard_sim(X[i], centroid) for i in range(len(X)) for centroid in centroids])\n",
    "            dist = dist.reshape(len(X), k)\n",
    "        else:\n",
    "            raise ValueError(\"Invalid similarity metric. Use 'euclidean', 'cosine', or 'jaccard'.\")\n",
    "        \n",
    "        labels = np.argmin(dist, axis=1)\n",
    "        new_centroids = np.array([X[labels == i].mean(axis=0) if np.sum(labels == i) > 0 else X[np.random.choice(len(X))] for i in range(k)])\n",
    "        \n",
    "        if np.all(new_centroids == centroids):\n",
    "            break\n",
    "        \n",
    "        centroids = new_centroids\n",
    "    \n",
    "    sse = np.sum((X - centroids[labels]) ** 2)\n",
    "    \n",
    "    return centroids, labels, sse\n",
    "\n",
    "# Apply k-means with Euclidean similarity\n",
    "k = len(labelData['7'].unique())\n",
    "centroids_euclidean, labels_euclidean, sse_euclidean = kmeans(features, k, sim='euclidean')\n",
    "\n",
    "# Apply k-means with Cosine similarity\n",
    "centroids_cosine, labels_cosine, sse_cosine = kmeans(features, k, sim='cosine')\n",
    "\n",
    "# Apply k-means with Jaccard similarity\n",
    "centroids_jaccard, labels_jaccard, sse_jaccard = kmeans(features, k, sim='jaccard')"
   ]
  },
  {
   "cell_type": "code",
   "execution_count": 15,
   "id": "a10e355a",
   "metadata": {},
   "outputs": [
    {
     "name": "stdout",
     "output_type": "stream",
     "text": [
      "SSE (Euclidean): 25322440086.71399\n",
      "SSE (Cosine): 25550469287.82114\n",
      "SSE (Jaccard): 25411717194.158615\n"
     ]
    }
   ],
   "source": [
    "# Print SSEs\n",
    "print(f\"SSE (Euclidean): {sse_euclidean}\")\n",
    "print(f\"SSE (Cosine): {sse_cosine}\")\n",
    "print(f\"SSE (Jaccard): {sse_jaccard}\")"
   ]
  }
 ],
 "metadata": {
  "kernelspec": {
   "display_name": "base",
   "language": "python",
   "name": "python3"
  },
  "language_info": {
   "codemirror_mode": {
    "name": "ipython",
    "version": 3
   },
   "file_extension": ".py",
   "mimetype": "text/x-python",
   "name": "python",
   "nbconvert_exporter": "python",
   "pygments_lexer": "ipython3",
   "version": "3.12.4"
  }
 },
 "nbformat": 4,
 "nbformat_minor": 5
}
