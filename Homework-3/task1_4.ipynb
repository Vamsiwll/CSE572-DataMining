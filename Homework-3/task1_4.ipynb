{
 "cells": [
  {
   "cell_type": "code",
   "execution_count": 5,
   "id": "12e004c8",
   "metadata": {},
   "outputs": [],
   "source": [
    "import numpy as np\n",
    "from sklearn.metrics import pairwise_distances\n",
    "from sklearn.preprocessing import normalize\n",
    "from sklearn.metrics import jaccard_score\n",
    "import pandas as pd\n",
    "from sklearn.preprocessing import StandardScaler\n",
    "from sklearn.metrics.pairwise import cosine_similarity as cos_sim\n",
    "import matplotlib.pyplot as plt\n",
    "from sklearn.metrics import accuracy_score\n",
    "from scipy.stats import mode"
   ]
  },
  {
   "cell_type": "code",
   "execution_count": 6,
   "id": "d8342bea",
   "metadata": {},
   "outputs": [],
   "source": [
    "# Read data from CSV file\n",
    "file_path = 'C:/Education/ASU/Semester_2/DM/My_HW/kmeans_data/data.csv'\n",
    "data = pd.read_csv(file_path)\n",
    "data\n",
    "file_path2 = 'C:/Education/ASU/Semester_2/DM/My_HW/kmeans_data/label.csv'\n",
    "labelData = pd.read_csv(file_path2)\n",
    "true_labels = labelData.values\n",
    "\n",
    "features = data.values\n",
    "\n",
    "scaler = StandardScaler()\n",
    "features_standardized = scaler.fit_transform(features)"
   ]
  },
  {
   "cell_type": "code",
   "execution_count": 7,
   "id": "046542f8",
   "metadata": {},
   "outputs": [],
   "source": [
    "# Defining Jaccard Similarity\n",
    "def jaccard_similarity(a, b):\n",
    "    intersection = np.sum(np.minimum(a, b))\n",
    "    union = np.sum(np.maximum(a, b))\n",
    "    return intersection / union if union != 0 else 0"
   ]
  },
  {
   "cell_type": "code",
   "execution_count": 8,
   "id": "512e03cf",
   "metadata": {},
   "outputs": [
    {
     "name": "stdout",
     "output_type": "stream",
     "text": [
      "SSE (Euclidean): 25416391754.414566\n",
      "Iterations (Euclidean): 73\n",
      "SSE (Cosine): 25573474232.38912\n",
      "Iterations (Cosine): 25\n",
      "SSE (Jaccard): 25428366575.29539\n",
      "Iterations (Jaccard): 15\n"
     ]
    }
   ],
   "source": [
    "#The K-means function\n",
    "def kmeans(X, k, sim='euclidean', max_iters=100, tol=1e-4):\n",
    "    # Initialize centroids randomly\n",
    "    centroids = X[np.random.choice(X.shape[0], k, replace=False)]\n",
    "    \n",
    "    iterations = 0  # Track the number of iterations\n",
    "    \n",
    "    prev_sse = np.inf  # Initialize SSE to infinity for the first iteration\n",
    "    \n",
    "    for iteration in range(max_iters):\n",
    "        # Compute distances from data points to centroids\n",
    "        if sim == 'euclidean':\n",
    "            dist = pairwise_distances(X, centroids, metric='euclidean')\n",
    "        elif sim == 'cosine':\n",
    "            dist = 1 - cos_sim(X, centroids)\n",
    "        elif sim == 'jaccard':\n",
    "            dist = np.array([1 - jaccard_similarity(X[i], centroid) for i in range(len(X)) for centroid in centroids])\n",
    "            dist = dist.reshape(len(X), k)\n",
    "\n",
    "        # Assign each data point to the closest centroid\n",
    "        labels = np.argmin(dist, axis=1)\n",
    "        \n",
    "        # Update centroids\n",
    "        new_centroids = np.array([X[labels == i].mean(axis=0) for i in range(k)])\n",
    "        \n",
    "        # Calculate SSE\n",
    "        sse = np.sum([np.sum((X[labels == i] - new_centroids[i])**2) for i in range(k)])\n",
    "        \n",
    "        # Check convergence criteria\n",
    "        if np.linalg.norm(new_centroids - centroids) < tol:\n",
    "            break\n",
    "        elif sse > prev_sse:\n",
    "            break\n",
    "        elif iteration == max_iters - 1:\n",
    "            break\n",
    "        \n",
    "        prev_sse = sse  # Update SSE for the next iteration\n",
    "        iterations += 1  # Increment iteration count\n",
    "        \n",
    "        # Update centroids for the next iteration\n",
    "        centroids = new_centroids\n",
    "    \n",
    "    return centroids, labels, sse, iterations\n",
    "\n",
    "# Example usage\n",
    "k = len(labelData['7'].unique())  # Set the number of clusters\n",
    "max_iters = 100  # Set the maximum number of iterations\n",
    "\n",
    "# Apply k-means with Euclidean similarity\n",
    "centroids_euclidean, labels_euclidean, sse_euclidean, iters_euclidean = kmeans(features, k, sim='euclidean', max_iters=max_iters)\n",
    "\n",
    "# Apply k-means with Cosine similarity\n",
    "centroids_cosine, labels_cosine, sse_cosine, iters_cosine = kmeans(features, k, sim='cosine', max_iters=max_iters)\n",
    "\n",
    "# Apply k-means with Jaccard similarity\n",
    "centroids_jaccard, labels_jaccard, sse_jaccard, iters_jaccard = kmeans(features, k, sim='jaccard', max_iters=max_iters)\n",
    "\n",
    "# Print the SSEs and iterations for each method\n",
    "print(\"SSE (Euclidean):\", sse_euclidean)\n",
    "print(\"Iterations (Euclidean):\", iters_euclidean)\n",
    "\n",
    "print(\"SSE (Cosine):\", sse_cosine)\n",
    "print(\"Iterations (Cosine):\", iters_cosine)\n",
    "\n",
    "print(\"SSE (Jaccard):\", sse_jaccard)\n",
    "print(\"Iterations (Jaccard):\", iters_jaccard)\n"
   ]
  }
 ],
 "metadata": {
  "kernelspec": {
   "display_name": "base",
   "language": "python",
   "name": "python3"
  },
  "language_info": {
   "codemirror_mode": {
    "name": "ipython",
    "version": 3
   },
   "file_extension": ".py",
   "mimetype": "text/x-python",
   "name": "python",
   "nbconvert_exporter": "python",
   "pygments_lexer": "ipython3",
   "version": "3.12.4"
  }
 },
 "nbformat": 4,
 "nbformat_minor": 5
}
